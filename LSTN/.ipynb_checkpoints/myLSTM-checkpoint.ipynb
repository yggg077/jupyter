{
 "cells": [
  {
   "cell_type": "code",
   "execution_count": 2,
   "metadata": {},
   "outputs": [],
   "source": [
    "import numpy\n",
    "import matplotlib.pyplot as plt\n",
    "import pandas\n",
    "import math\n",
    "from keras.models import Sequential\n",
    "from keras.layers import Dense\n",
    "from keras.layers import LSTM\n",
    "from sklearn.preprocessing import MinMaxScaler\n",
    "from sklearn.metrics import mean_squared_error"
   ]
  },
  {
   "cell_type": "code",
   "execution_count": 3,
   "metadata": {},
   "outputs": [],
   "source": [
    "def create_dataset(dataset, look_back=1):\n",
    "    dataX, dataY = [], []\n",
    "    for i in range(len(dataset)-look_back-1):\n",
    "        a = dataset[i:(i+look_back), 0]\n",
    "        dataX.append(a)\n",
    "        dataY.append(dataset[i + look_back, 0])\n",
    "    return numpy.array(dataX), numpy.array(dataY)"
   ]
  },
  {
   "cell_type": "code",
   "execution_count": 13,
   "metadata": {},
   "outputs": [
    {
     "data": {
      "image/png": "[encoded data removed]",
      "text/plain": [
       "<Figure size 432x288 with 1 Axes>"
      ]
     },
     "metadata": {},
     "output_type": "display_data"
    }
   ],
   "source": [
    "dataframe = pandas.read_csv('testN.csv', usecols=[1], engine='python')\n",
    "dataset = dataframe.values\n",
    "dataset = dataset.astype('float32')\n",
    "plt.plot(dataset)\n",
    "plt.show()"
   ]
  },
  {
   "cell_type": "code",
   "execution_count": 14,
   "metadata": {},
   "outputs": [],
   "source": [
    "# normalize the dataset\n",
    "scaler = MinMaxScaler(feature_range=(0, 1))\n",
    "dataset = scaler.fit_transform(dataset)\n",
    "# split into train and test sets\n",
    "train_size = int(len(dataset) * 0.8)\n",
    "test_size = len(dataset) - train_size\n",
    "train, test = dataset[0:train_size,:], dataset[train_size:len(dataset),:]\n",
    "# reshape into X=t and Y=t+1\n",
    "look_back = 3\n",
    "trainX, trainY = create_dataset(train, look_back)\n",
    "testX, testY = create_dataset(test, look_back)\n",
    "# reshape input to be [samples, time steps, features]\n",
    "trainX = numpy.reshape(trainX, (trainX.shape[0], trainX.shape[1], 1))\n",
    "testX = numpy.reshape(testX, (testX.shape[0], testX.shape[1], 1))"
   ]
  },
  {
   "cell_type": "code",
   "execution_count": 15,
   "metadata": {
    "scrolled": false
   },
   "outputs": [
    {
     "name": "stderr",
     "output_type": "stream",
     "text": [
      "/usr/local/lib/python3.5/dist-packages/keras/models.py:942: UserWarning: The `nb_epoch` argument in `fit` has been renamed `epochs`.\n",
      "  warnings.warn('The `nb_epoch` argument in `fit` '\n"
     ]
    },
    {
     "name": "stdout",
     "output_type": "stream",
     "text": [
      "Epoch 1/50\n",
      " - 18s - loss: 0.0045\n",
      "Epoch 2/50\n",
      " - 16s - loss: 0.0014\n",
      "Epoch 3/50\n",
      " - 16s - loss: 0.0015\n",
      "Epoch 4/50\n",
      " - 16s - loss: 0.0013\n",
      "Epoch 5/50\n",
      " - 16s - loss: 0.0012\n",
      "Epoch 6/50\n",
      " - 16s - loss: 0.0011\n",
      "Epoch 7/50\n",
      " - 16s - loss: 0.0010\n",
      "Epoch 8/50\n",
      " - 16s - loss: 9.1222e-04\n",
      "Epoch 9/50\n",
      " - 16s - loss: 8.5518e-04\n",
      "Epoch 10/50\n",
      " - 16s - loss: 7.9512e-04\n",
      "Epoch 11/50\n",
      " - 16s - loss: 8.6933e-04\n",
      "Epoch 12/50\n",
      " - 16s - loss: 8.0055e-04\n",
      "Epoch 13/50\n",
      " - 16s - loss: 7.5382e-04\n",
      "Epoch 14/50\n",
      " - 16s - loss: 7.9403e-04\n",
      "Epoch 15/50\n",
      " - 16s - loss: 7.8740e-04\n",
      "Epoch 16/50\n",
      " - 16s - loss: 7.1169e-04\n",
      "Epoch 17/50\n",
      " - 16s - loss: 7.3324e-04\n",
      "Epoch 18/50\n",
      " - 16s - loss: 7.4077e-04\n",
      "Epoch 19/50\n",
      " - 16s - loss: 6.8337e-04\n",
      "Epoch 20/50\n",
      " - 16s - loss: 6.8937e-04\n",
      "Epoch 21/50\n",
      " - 16s - loss: 7.0343e-04\n",
      "Epoch 22/50\n",
      " - 16s - loss: 6.9852e-04\n",
      "Epoch 23/50\n",
      " - 16s - loss: 7.0197e-04\n",
      "Epoch 24/50\n",
      " - 16s - loss: 6.6180e-04\n",
      "Epoch 25/50\n",
      " - 16s - loss: 6.6749e-04\n",
      "Epoch 26/50\n",
      " - 16s - loss: 6.6004e-04\n",
      "Epoch 27/50\n",
      " - 16s - loss: 7.1311e-04\n",
      "Epoch 28/50\n",
      " - 16s - loss: 6.5757e-04\n",
      "Epoch 29/50\n",
      " - 17s - loss: 6.5819e-04\n",
      "Epoch 30/50\n",
      " - 16s - loss: 6.8094e-04\n",
      "Epoch 31/50\n",
      " - 16s - loss: 6.4838e-04\n",
      "Epoch 32/50\n",
      " - 16s - loss: 6.5130e-04\n",
      "Epoch 33/50\n",
      " - 16s - loss: 6.0472e-04\n",
      "Epoch 34/50\n",
      " - 16s - loss: 6.3458e-04\n",
      "Epoch 35/50\n",
      " - 16s - loss: 6.4880e-04\n",
      "Epoch 36/50\n",
      " - 16s - loss: 6.1063e-04\n",
      "Epoch 37/50\n",
      " - 16s - loss: 6.0990e-04\n",
      "Epoch 38/50\n",
      " - 16s - loss: 6.2285e-04\n",
      "Epoch 39/50\n",
      " - 16s - loss: 5.9979e-04\n",
      "Epoch 40/50\n",
      " - 16s - loss: 6.0275e-04\n",
      "Epoch 41/50\n",
      " - 16s - loss: 5.9655e-04\n",
      "Epoch 42/50\n",
      " - 17s - loss: 6.0636e-04\n",
      "Epoch 43/50\n",
      " - 16s - loss: 6.3153e-04\n",
      "Epoch 44/50\n",
      " - 16s - loss: 6.0172e-04\n",
      "Epoch 45/50\n",
      " - 16s - loss: 5.7984e-04\n",
      "Epoch 46/50\n",
      " - 17s - loss: 6.2015e-04\n",
      "Epoch 47/50\n",
      " - 16s - loss: 5.7384e-04\n",
      "Epoch 48/50\n",
      " - 16s - loss: 5.5784e-04\n",
      "Epoch 49/50\n",
      " - 16s - loss: 5.6862e-04\n",
      "Epoch 50/50\n",
      " - 16s - loss: 5.9040e-04\n"
     ]
    },
    {
     "data": {
      "text/plain": [
       "<keras.callbacks.History at 0x7f8d353c2e48>"
      ]
     },
     "execution_count": 15,
     "metadata": {},
     "output_type": "execute_result"
    }
   ],
   "source": [
    "# create and fit the LSTM network\n",
    "model = Sequential()\n",
    "model.add(LSTM(256, input_shape=(trainX.shape[1], trainX.shape[2]), return_sequences=True))\n",
    "# model.add(Dropout(0.2))\n",
    "model.add(LSTM(128))\n",
    "# model.add(Dropout(0.2))\n",
    "model.add(Dense(1))\n",
    "model.compile(loss='mean_squared_error', optimizer='adam')\n",
    "model.fit(trainX, trainY, nb_epoch=50, batch_size=1, verbose=2)"
   ]
  },
  {
   "cell_type": "code",
   "execution_count": 16,
   "metadata": {},
   "outputs": [],
   "source": [
    "# make predictions\n",
    "trainPredict = model.predict(trainX)\n",
    "testPredict = model.predict(testX)"
   ]
  },
  {
   "cell_type": "code",
   "execution_count": 17,
   "metadata": {},
   "outputs": [
    {
     "name": "stdout",
     "output_type": "stream",
     "text": [
      "Train Score: 102.24 RMSE\n",
      "Test Score: 27.07 RMSE\n"
     ]
    }
   ],
   "source": [
    "# invert predictions\n",
    "trainPredict = scaler.inverse_transform(trainPredict)\n",
    "trainY = scaler.inverse_transform([trainY])\n",
    "testPredict = scaler.inverse_transform(testPredict)\n",
    "testY = scaler.inverse_transform([testY])\n",
    "# calculate root mean squared error\n",
    "trainScore = math.sqrt(mean_squared_error(trainY[0], trainPredict[:,0]))\n",
    "print('Train Score: %.2f RMSE' % (trainScore))\n",
    "testScore = math.sqrt(mean_squared_error(testY[0], testPredict[:,0]))\n",
    "print('Test Score: %.2f RMSE' % (testScore))"
   ]
  },
  {
   "cell_type": "code",
   "execution_count": 18,
   "metadata": {},
   "outputs": [
    {
     "data": {
      "image/png": "[encoded data removed]",
      "text/plain": [
       "<Figure size 432x288 with 1 Axes>"
      ]
     },
     "metadata": {},
     "output_type": "display_data"
    }
   ],
   "source": [
    "# fix random seed for reproducibility\n",
    "# numpy.random.seed(7)\n",
    "# shift train predictions for plotting\n",
    "trainPredictPlot = numpy.empty_like(dataset)\n",
    "trainPredictPlot[:, :] = numpy.nan\n",
    "trainPredictPlot[look_back:len(trainPredict)+look_back, :] = trainPredict\n",
    "# shift test predictions for plotting\n",
    "testPredictPlot = numpy.empty_like(dataset)\n",
    "testPredictPlot[:, :] = numpy.nan\n",
    "testPredictPlot[len(trainPredict)+(look_back*2)+1:len(dataset)-1, :] = testPredict\n",
    "# plot baseline and predictions\n",
    "plt.plot(scaler.inverse_transform(dataset))\n",
    "plt.plot(trainPredictPlot)\n",
    "plt.plot(testPredictPlot)\n",
    "plt.show()"
   ]
  },
  {
   "cell_type": "code",
   "execution_count": null,
   "metadata": {},
   "outputs": [],
   "source": []
  }
 ],
 "metadata": {
  "kernelspec": {
   "display_name": "Python 3",
   "language": "python",
   "name": "python3"
  },
  "language_info": {
   "codemirror_mode": {
    "name": "ipython",
    "version": 3
   },
   "file_extension": ".py",
   "mimetype": "text/x-python",
   "name": "python",
   "nbconvert_exporter": "python",
   "pygments_lexer": "ipython3",
   "version": "3.5.2"
  }
 },
 "nbformat": 4,
 "nbformat_minor": 2
}
