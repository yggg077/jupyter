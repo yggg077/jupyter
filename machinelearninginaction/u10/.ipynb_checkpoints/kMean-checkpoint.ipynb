{
 "cells": [
  {
   "cell_type": "code",
   "execution_count": 1,
   "metadata": {},
   "outputs": [],
   "source": [
    "from numpy import *\n",
    "def loadDataSet(fileName):\n",
    "    dataMat = []\n",
    "    fr = open(fileName)\n",
    "    for line in fr.readlines():\n",
    "        curLine = line.strip().split('\\t')\n",
    "        fltLine = map(float, curLine)\n",
    "        dataMat.append(fltLine)\n",
    "    return dataMat"
   ]
  },
  {
   "cell_type": "code",
   "execution_count": 2,
   "metadata": {},
   "outputs": [],
   "source": [
    "# 欧式距离\n",
    "def distEclud(vecA, vecB):\n",
    "    return sqrt(sum(power(vecA - vecB, 2)))\n",
    "def randCent(dataSet, k):\n",
    "    n = shape(dataSet)[1]\n",
    "    centroids = mat(zeros((k, n)))\n",
    "    for j in range(n): \n",
    "        minJ = min(dataSet[:,j])\n",
    "        rangeJ = float(max(dataSet[:,j]) - minJ)\n",
    "        centroids[:,j] = minJ + rangeJ * random.rand(k,1)\n",
    "    return centroids"
   ]
  },
  {
   "cell_type": "code",
   "execution_count": 6,
   "metadata": {},
   "outputs": [],
   "source": [
    "# K-均值聚类算法\n",
    "def kMeans(dataSet, k, distMeas=distEclud, createCent=randCent):\n",
    "    m = shape(dataSet)[0]\n",
    "    clusterAssment = mat(zeros((m,2)))\n",
    "    centroids = createCent(dataSet,k)\n",
    "    clusterChanged = True\n",
    "    while clusterChanged:\n",
    "        clusterChanged = False\n",
    "        for i in range(m):\n",
    "            minDist = inf; minIndex = -1\n",
    "#             寻找最近的质心\n",
    "            for j in range(k):\n",
    "                distJI = distMeas(centroids[j,:], dataSet[i,:])\n",
    "                if distJI < minDist:\n",
    "                    minDist = distJI; minIndex = j\n",
    "            if clusterAssment[i,0] != minIndex:\n",
    "                clusterChanged = True\n",
    "            clusterAssment[i,:] = minIndex,minDist**2\n",
    "        print centroids\n",
    "#         更新质心位置\n",
    "        for cent in range(k):\n",
    "            ptsInClust = dataSet[nonzero(clusterAssment[:,0].A == cent)[0]]\n",
    "            centroids[cent,:] = mean(ptsInClust, axis=0)\n",
    "    return centroids, clusterAssment"
   ]
  },
  {
   "cell_type": "code",
   "execution_count": 7,
   "metadata": {
    "scrolled": true
   },
   "outputs": [
    {
     "name": "stdout",
     "output_type": "stream",
     "text": [
      "[[ 2.85206201  2.09623935]\n",
      " [-1.7078761  -0.46465781]\n",
      " [ 3.73818476 -3.99911099]\n",
      " [-3.50876556  0.11578367]]\n",
      "[[ 2.46383071  3.1198451 ]\n",
      " [-2.11104069 -2.05819462]\n",
      " [ 2.91339042 -2.85004268]\n",
      " [-3.25705152  0.73091444]]\n",
      "[[ 2.46383071  3.1198451 ]\n",
      " [-3.1877719  -2.82981938]\n",
      " [ 2.91339042 -2.85004268]\n",
      " [-2.54951105  2.75812458]]\n",
      "[[ 2.6265299   3.10868015]\n",
      " [-3.38237045 -2.9473363 ]\n",
      " [ 2.80293085 -2.7315146 ]\n",
      " [-2.46154315  2.78737555]]\n"
     ]
    },
    {
     "data": {
      "text/plain": [
       "(matrix([[ 2.6265299 ,  3.10868015],\n",
       "         [-3.38237045, -2.9473363 ],\n",
       "         [ 2.80293085, -2.7315146 ],\n",
       "         [-2.46154315,  2.78737555]]),\n",
       " matrix([[  0.00000000e+00,   2.32019150e+00],\n",
       "         [  3.00000000e+00,   1.39004893e+00],\n",
       "         [  2.00000000e+00,   6.63839104e+00],\n",
       "         [  1.00000000e+00,   4.16140951e+00],\n",
       "         [  0.00000000e+00,   2.76967820e+00],\n",
       "         [  3.00000000e+00,   2.80101213e+00],\n",
       "         [  2.00000000e+00,   5.85909807e+00],\n",
       "         [  1.00000000e+00,   1.50646425e+00],\n",
       "         [  0.00000000e+00,   2.29348924e+00],\n",
       "         [  3.00000000e+00,   6.45967483e-01],\n",
       "         [  2.00000000e+00,   1.74010499e+00],\n",
       "         [  1.00000000e+00,   3.77769471e-01],\n",
       "         [  0.00000000e+00,   2.51695402e+00],\n",
       "         [  3.00000000e+00,   1.38716420e-01],\n",
       "         [  2.00000000e+00,   9.47633071e+00],\n",
       "         [  1.00000000e+00,   9.97310599e+00],\n",
       "         [  0.00000000e+00,   2.39726914e+00],\n",
       "         [  3.00000000e+00,   3.10242360e+00],\n",
       "         [  2.00000000e+00,   4.11084375e-01],\n",
       "         [  1.00000000e+00,   4.74890795e-01],\n",
       "         [  0.00000000e+00,   1.38706133e-01],\n",
       "         [  3.00000000e+00,   5.10240996e-01],\n",
       "         [  2.00000000e+00,   1.05700176e+00],\n",
       "         [  1.00000000e+00,   2.90181828e-02],\n",
       "         [  0.00000000e+00,   1.31601105e+00],\n",
       "         [  3.00000000e+00,   9.08203769e-01],\n",
       "         [  2.00000000e+00,   5.02608557e-01],\n",
       "         [  1.00000000e+00,   4.57942717e-01],\n",
       "         [  0.00000000e+00,   2.13786618e-01],\n",
       "         [  3.00000000e+00,   4.05632356e+00],\n",
       "         [  2.00000000e+00,   5.14171888e+00],\n",
       "         [  1.00000000e+00,   5.56237495e-01],\n",
       "         [  0.00000000e+00,   4.76142736e-01],\n",
       "         [  3.00000000e+00,   1.54414110e+00],\n",
       "         [  2.00000000e+00,   6.10930460e+00],\n",
       "         [  1.00000000e+00,   9.47660177e-01],\n",
       "         [  0.00000000e+00,   4.87745774e+00],\n",
       "         [  3.00000000e+00,   3.12703929e+00],\n",
       "         [  2.00000000e+00,   6.45118831e-03],\n",
       "         [  1.00000000e+00,   3.01415411e-01],\n",
       "         [  0.00000000e+00,   8.84955695e-01],\n",
       "         [  3.00000000e+00,   7.98870968e-02],\n",
       "         [  2.00000000e+00,   5.23673430e-01],\n",
       "         [  1.00000000e+00,   3.24171404e+00],\n",
       "         [  0.00000000e+00,   9.32523506e-02],\n",
       "         [  3.00000000e+00,   9.13705455e-01],\n",
       "         [  2.00000000e+00,   1.25766593e+00],\n",
       "         [  1.00000000e+00,   4.09563895e-01],\n",
       "         [  0.00000000e+00,   9.46987842e-01],\n",
       "         [  3.00000000e+00,   2.63836399e+00],\n",
       "         [  2.00000000e+00,   5.20371222e-01],\n",
       "         [  1.00000000e+00,   1.86796790e+00],\n",
       "         [  0.00000000e+00,   5.46768776e+00],\n",
       "         [  3.00000000e+00,   5.73153563e+00],\n",
       "         [  2.00000000e+00,   3.12040332e-01],\n",
       "         [  1.00000000e+00,   3.93986735e-01],\n",
       "         [  0.00000000e+00,   1.32864695e+00],\n",
       "         [  3.00000000e+00,   2.38032454e-02],\n",
       "         [  2.00000000e+00,   1.07872914e+00],\n",
       "         [  1.00000000e+00,   4.35369355e-01],\n",
       "         [  0.00000000e+00,   4.55502856e-01],\n",
       "         [  3.00000000e+00,   1.96212809e-02],\n",
       "         [  2.00000000e+00,   1.95213538e+00],\n",
       "         [  1.00000000e+00,   1.54154401e+00],\n",
       "         [  0.00000000e+00,   1.26364010e+00],\n",
       "         [  3.00000000e+00,   1.33108375e+00],\n",
       "         [  2.00000000e+00,   3.02422139e-01],\n",
       "         [  1.00000000e+00,   5.58860689e-01],\n",
       "         [  0.00000000e+00,   9.52516316e-02],\n",
       "         [  3.00000000e+00,   6.25129762e-01],\n",
       "         [  2.00000000e+00,   8.41875177e-01],\n",
       "         [  1.00000000e+00,   2.06159470e+00],\n",
       "         [  0.00000000e+00,   6.39227291e+00],\n",
       "         [  3.00000000e+00,   2.01200372e-01],\n",
       "         [  2.00000000e+00,   3.51030769e+00],\n",
       "         [  1.00000000e+00,   9.83287604e-01],\n",
       "         [  0.00000000e+00,   7.06014703e-02],\n",
       "         [  3.00000000e+00,   2.59901305e-01],\n",
       "         [  2.00000000e+00,   3.74491207e+00],\n",
       "         [  1.00000000e+00,   2.32143993e+00]]))"
      ]
     },
     "execution_count": 7,
     "metadata": {},
     "output_type": "execute_result"
    }
   ],
   "source": [
    "datMat = mat(loadDataSet('testSet.txt'))\n",
    "kMeans(datMat,4)"
   ]
  },
  {
   "cell_type": "code",
   "execution_count": 14,
   "metadata": {},
   "outputs": [],
   "source": [
    "# 二分K-均值聚类\n",
    "def biKmeans(dataSet, k, distMeas=distEclud):\n",
    "    m = shape(dataSet)[0]\n",
    "    clusterAssment = mat(zeros((m,2)))\n",
    "#     创建一个初始簇\n",
    "    centroid0 = mean(dataSet, axis=0).tolist()[0]  \n",
    "    centList = [centroid0]\n",
    "    for j in range(m):\n",
    "        clusterAssment[j,1] = distMeas(mat(centroid0), dataSet[j,:])**2\n",
    "    while (len(centList) < k):\n",
    "        lowestSSE = inf\n",
    "        for i in range(len(centList)):\n",
    "            ptsInCurrCluster = dataSet[nonzero(clusterAssment[:,0].A==i)[0],:]\n",
    "            centroidMat, splitClustAss = kMeans(ptsInCurrCluster, 2, distMeas)\n",
    "            sseSplit = sum(splitClustAss[:,1])\n",
    "            sseNotSplit = sum(clusterAssment[nonzero(clusterAssment[:,0].A != i)[0],1])\n",
    "            print \"sseSplit, and notSplit: \",sseSplit, sseNotSplit\n",
    "            if(sseSplit + sseNotSplit) < lowestSSE:\n",
    "                bestCentToSplit = i\n",
    "                bestNewCents = centroidMat\n",
    "                bestClustAss = splitClustAss.copy()\n",
    "                lowestSSE = sseSplit + sseNotSplit\n",
    "        bestClustAss[nonzero(bestClustAss[:,0].A == 1)[0],0] = len(centList)\n",
    "        bestClustAss[nonzero(bestClustAss[:,0].A == 0)[0],0] = bestCentToSplit\n",
    "        print 'the bestCentToSplit is: ', bestCentToSplit\n",
    "        print 'the len of bestClustAss is: ', len(bestClustAss)\n",
    "        centList[bestCentToSplit] = bestNewCents[0,:]\n",
    "        centList.append(bestNewCents[1,:])\n",
    "        clusterAssment[nonzero(clusterAssment[:,0].A == bestCentToSplit)[0],:] = bestClustAss\n",
    "    return centList, clusterAssment"
   ]
  },
  {
   "cell_type": "code",
   "execution_count": 15,
   "metadata": {},
   "outputs": [
    {
     "name": "stdout",
     "output_type": "stream",
     "text": [
      "[[-3.95373386 -3.48356518]\n",
      " [ 4.02186129  1.54536113]]\n",
      "[[-1.69031148 -0.38855548]\n",
      " [ 1.71544126  3.19785696]]\n",
      "[[-1.71263297 -0.19674017]\n",
      " [ 2.01915156  3.21622852]]\n",
      "[[-1.72153338 -0.00938424]\n",
      " [ 2.35797261  3.21160974]]\n",
      "[[-1.73028592  0.20133246]\n",
      " [ 2.76275171  3.12704005]]\n",
      "[[-1.70351595  0.27408125]\n",
      " [ 2.93386365  3.12782785]]\n",
      "sseSplit, and notSplit:  541.297629265 0.0\n",
      "the bestCentToSplit is:  0\n",
      "the len of bestClustAss is:  60\n",
      "[[-0.71942501 -3.72310313]\n",
      " [-1.43685595 -1.55910388]]\n",
      "[[-0.11329936 -3.20075614]\n",
      " [-2.55978642  2.14514754]]\n",
      "[[-0.45965615 -2.7782156 ]\n",
      " [-2.94737575  3.3263781 ]]\n",
      "sseSplit, and notSplit:  67.2202000798 39.5292986821\n",
      "[[ 3.96524991  3.14097997]\n",
      " [ 3.48002996  4.25639244]]\n",
      "[[ 3.47582455  2.59709691]\n",
      " [ 2.271467    3.776499  ]]\n",
      "sseSplit, and notSplit:  25.4640400549 501.768330583\n",
      "the bestCentToSplit is:  0\n",
      "the len of bestClustAss is:  40\n"
     ]
    }
   ],
   "source": [
    "dataMat3 = mat(loadDataSet('testSet2.txt'))\n",
    "centList, myNewAssments = biKmeans(dataMat3, 3)"
   ]
  },
  {
   "cell_type": "code",
   "execution_count": 16,
   "metadata": {},
   "outputs": [
    {
     "data": {
      "text/plain": [
       "[matrix([[-0.45965615, -2.7782156 ]]),\n",
       " matrix([[ 2.93386365,  3.12782785]]),\n",
       " matrix([[-2.94737575,  3.3263781 ]])]"
      ]
     },
     "execution_count": 16,
     "metadata": {},
     "output_type": "execute_result"
    }
   ],
   "source": [
    "centList"
   ]
  },
  {
   "cell_type": "code",
   "execution_count": null,
   "metadata": {},
   "outputs": [],
   "source": []
  }
 ],
 "metadata": {
  "kernelspec": {
   "display_name": "Python 2",
   "language": "python",
   "name": "python2"
  },
  "language_info": {
   "codemirror_mode": {
    "name": "ipython",
    "version": 2
   },
   "file_extension": ".py",
   "mimetype": "text/x-python",
   "name": "python",
   "nbconvert_exporter": "python",
   "pygments_lexer": "ipython2",
   "version": "2.7.14"
  }
 },
 "nbformat": 4,
 "nbformat_minor": 2
}
