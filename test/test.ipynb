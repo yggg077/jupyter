{
 "cells": [
  {
   "cell_type": "code",
   "execution_count": 14,
   "metadata": {},
   "outputs": [],
   "source": [
    "file = open('field.txt')\n",
    "rows = [];\n",
    "for line in file.readlines():\n",
    "#     print line.strip()\n",
    "    line = line[:-1].strip()\n",
    "    if len(line) > 0:\n",
    "        rows.append(line)"
   ]
  },
  {
   "cell_type": "code",
   "execution_count": 17,
   "metadata": {
    "scrolled": true
   },
   "outputs": [
    {
     "name": "stdout",
     "output_type": "stream",
     "text": [
      "hallBillboardInfoUrl = def.getHallBillboardInfoUrl();\n",
      "mqttHost = def.getMqttHost();\n",
      "mqttUserName = def.getMqttUserName();\n",
      "mqttPassword = def.getMqttPassword();\n",
      "connectionTimeout = def.getConnectionTimeout();\n",
      "keepAliveInterval = def.getKeepAliveInterval();\n",
      "tryConnectTimes = def.getTryConnectTimes();\n",
      "sleepTime = def.getSleepTime();\n",
      "hosName = def.getHosName();\n",
      "showPatientId = def.getShowPatientId();\n",
      "showRoomCount = def.getShowRoomCount();\n",
      "showWaitInfoPageTime = def.getShowWaitInfoPageTime();\n",
      "showCallSignalTime = def.getShowCallSignalTime();\n",
      "showMacOrDct = def.getShowMacOrDct();\n",
      "hosNameTextSize = def.getHosNameTextSize();\n",
      "deptNameTextSize = def.getDeptNameTextSize();\n",
      "tableHeadTextSize = def.getTableHeadTextSize();\n",
      "tableBodyTextSize = def.getTableBodyTextSize();\n",
      "timeTextSize = def.getTimeTextSize();\n",
      "infoTextSize = def.getInfoTextSize();\n",
      "callSigTextSizeBig = def.getCallSigTextSizeBig();\n",
      "callSigTextSizeSmall = def.getCallSigTextSizeSmall();\n",
      "smallHosNameTextSize = def.getSmallHosNameTextSize();\n",
      "examRoomNameTextSize = def.getExamRoomNameTextSize();\n",
      "smallTableBodyTextSize = def.getSmallTableBodyTextSize();\n",
      "operatorTextSize = def.getOperatorTextSize();\n",
      "curPaTextSize = def.getCurPaTextSize();\n",
      "waitPaTextSize = def.getWaitPaTextSize();\n",
      "smallTimeTextSize = def.getSmallTimeTextSize();\n",
      "itemCh = def.getItemCh();\n",
      "itemEn = def.getItemEn();\n",
      "rate = def.getRate();\n",
      "frequency = def.getFrequency();\n",
      "interval = def.getInterval();\n"
     ]
    }
   ],
   "source": [
    "# row = rows[0]\n",
    "for row in rows:\n",
    "    print row + ' = def.get' + row[:1].upper() + row[1:] + \"();\"\n",
    "# hallBillboardInfoUrl = def.getHallBillboardInfoUrl();"
   ]
  },
  {
   "cell_type": "code",
   "execution_count": null,
   "metadata": {},
   "outputs": [],
   "source": []
  }
 ],
 "metadata": {
  "kernelspec": {
   "display_name": "Python 2",
   "language": "python",
   "name": "python2"
  },
  "language_info": {
   "codemirror_mode": {
    "name": "ipython",
    "version": 2
   },
   "file_extension": ".py",
   "mimetype": "text/x-python",
   "name": "python",
   "nbconvert_exporter": "python",
   "pygments_lexer": "ipython2",
   "version": "2.7.14"
  }
 },
 "nbformat": 4,
 "nbformat_minor": 2
}
